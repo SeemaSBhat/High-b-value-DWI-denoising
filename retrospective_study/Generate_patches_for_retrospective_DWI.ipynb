{
  "nbformat": 4,
  "nbformat_minor": 0,
  "metadata": {
    "accelerator": "GPU",
    "colab": {
      "name": "Generate_patches_for_retrospective_DWI.ipynb",
      "provenance": [],
      "collapsed_sections": []
    },
    "kernelspec": {
      "display_name": "Python 3",
      "name": "python3"
    }
  },
  "cells": [
    {
      "cell_type": "code",
      "metadata": {
        "cellView": "code",
        "id": "iiuTGhgiEvEC"
      },
      "source": [
        "#This code is for generating clean patches from retrospective high b-value DWI for training DnCNN \n",
        "\n",
        "import nibabel as nib\n",
        "import numpy as np\n",
        "import os\n",
        "import os.path\n",
        "import cv2\n",
        "import matplotlib.pyplot as plt\n",
        "\n",
        "patch_size, stride = 40, 10\n",
        "aug_times =10\n",
        "#num_threads = 16  \n",
        "imx =[]\n",
        "imy =[]\n",
        "x_patches = []\n",
        "y_patches = []\n",
        "scales = [1, 0.9, 0.8, 0.7]\n",
        "\n",
        "def data_aug(img_data, mode=0):\n",
        "        if mode == 0:\n",
        "           return img_data\n",
        "        elif mode == 1:\n",
        "           return np.flipud(img_data)\n",
        "        elif mode == 2:\n",
        "           return np.rot90(img_data,axes=(0, 1))\n",
        "        elif mode == 3:\n",
        "           return np.flipud(np.rot90(img_data,axes=(0, 1)))\n",
        "        elif mode == 4:\n",
        "           return np.rot90(img_data, k=2,axes=(0, 1))\n",
        "        elif mode == 5:\n",
        "           return np.flipud(np.rot90(img_data, k=2,axes=(0, 1)))\n",
        "        elif mode == 6:\n",
        "           return np.rot90(img_data, k=3,axes=(0, 1))\n",
        "        elif mode == 7:\n",
        "           return np.flipud(np.rot90(img_data, k=3,axes=(0, 1)))\n",
        "    \n",
        "\n",
        "                    \n",
        "        "
      ],
      "execution_count": null,
      "outputs": []
    },
    {
      "cell_type": "code",
      "metadata": {
        "id": "QXFDye2L_I8o"
      },
      "source": [
        "# Read 150 slices of the training image\n",
        "\n",
        "for dirpath, dirnames, filenames in os.walk(\"Path for high b-value retrospective DWI data\"):\n",
        "   for filename in [f for f in filenames if f.endswith(\"sub-TCRc011_ses-1_acq-preSMS_dwi.nii.gz\")]:\n",
        "          img_path=os.path.join(dirpath, filename)\n",
        "          img = nib.load(os.path.join(dirpath, filename))\n",
        "          img_data2 = np.array(img.get_data())  \n",
        "          print(img_data2.shape)   \n",
        "          img_data2=img_data2.astype('float32')     \n",
        "          slice_total=img_data2.shape[2]\n",
        "          dir_total=img_data2.shape[3]\n",
        "          for num_slice in range(slice_total-10,slice_total):\n",
        "            for dir_no in range(dir_total-10,dir_total):\n",
        "                img_data=img_data2[:,:,num_slice,dir_no]\n",
        "                im.append(img_data)   \n",
        "          \n",
        "  "
      ],
      "execution_count": null,
      "outputs": []
    },
    {
      "cell_type": "code",
      "metadata": {
        "id": "I4CUgUp8--3G"
      },
      "source": [
        "# Scaling , data augmentantion and generate patches\n",
        "\n",
        "h, w = im.shape\n",
        "for num_slice in range(slice_total):\n",
        "    for s in scales:\n",
        "        h_scaled, w_scaled = int(h*s),int(w*s)\n",
        "        img_scaled = cv2.resize(im[num_slice], (h_scaled,w_scaled), interpolation=cv2.INTER_CUBIC)\n",
        "        \n",
        "\n",
        "    # extract patches\n",
        "        for i in range(0, h_scaled-patch_size+1, stride):\n",
        "            for j in range(0, w_scaled-patch_size+1, stride):\n",
        "                  x_train = img_scaled[i:i+patch_size, j:j+patch_size]\n",
        "                  for k in range(0, aug_times): # data aug\n",
        "                      mode=np.random.randint(0,8)                              \n",
        "                      x_aug_train = data_aug(x_train,mode)                                      \n",
        "                      x_patches.append(x_aug_train)\n",
        "   \n",
        "                     \n",
        "# Save x_train patches to .npy\n",
        "save_dir = '.'\n",
        "res = np.asarray(x_patches)\n",
        "print('Shape of result = ' + str(resx.shape))\n",
        "print('Saving data...')\n",
        "np.save('./x_train_avg4_128_23.npy', resx)\n",
        "print('Done.')                     \n",
        " \n",
        "\n",
        "\n",
        "                \n",
        "   \n",
        "\n"
      ],
      "execution_count": null,
      "outputs": []
    },
    {
      "cell_type": "code",
      "metadata": {
        "id": "_ZsdXu7HByPS"
      },
      "source": [
        ""
      ],
      "execution_count": null,
      "outputs": []
    }
  ]
}