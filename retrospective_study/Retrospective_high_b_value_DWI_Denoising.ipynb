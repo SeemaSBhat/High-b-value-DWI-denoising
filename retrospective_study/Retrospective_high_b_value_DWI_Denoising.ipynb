{
  "nbformat": 4,
  "nbformat_minor": 0,
  "metadata": {
    "accelerator": "GPU",
    "colab": {
      "name": "Retrospective_high_b_value_DWI_Denoising.ipynb",
      "provenance": [],
      "collapsed_sections": []
    },
    "kernelspec": {
      "display_name": "Python 3",
      "name": "python3"
    }
  },
  "cells": [
    {
      "cell_type": "code",
      "metadata": {
        "id": "sZJiz5_KxjvV"
      },
      "source": [
        "# This code is for retrospective high b-value DWI denoising using DnCNN\n",
        "# Code dependency Python 3.7, Tesnsorflow and Keras\n",
        "# Reference article: https://ieeexplore.ieee.org/abstract/document/7839189\n",
        "\n",
        "!pip install bm3d\n",
        "!pip install pydicom\n",
        "!pip install medpy\n",
        "\n",
        "# Python modules\n",
        "import os\n",
        "import cv2\n",
        "import logging\n",
        "import time \n",
        "import glob\n",
        "import os.path\n",
        "import models\n",
        "import bm3d\n",
        "import pydicom\n",
        "import nibabel as nib\n",
        "import numpy as np\n",
        "import pandas as pd\n",
        "import scipy\n",
        "from scipy import stats \n",
        "from scipy.stats import rice\n",
        "from scipy import ndimage\n",
        "#from keras import backend as K\n",
        "import tensorflow as tf\n",
        "import matplotlib.pyplot as plt\n",
        "import sklearn.metrics as metrics\n",
        "from sklearn.model_selection import train_test_split\n",
        "import imquality.brisque as brisque\n",
        "import skimage.measure    \n",
        "from keras.callbacks import CSVLogger, ModelCheckpoint, LearningRateScheduler\n",
        "from keras.models import load_model\n",
        "from keras.optimizers import Adam\n",
        "from skimage.measure import compare_psnr, compare_ssim\n",
        "from skimage.metrics import structural_similarity as ssim\n",
        "from medpy.filter.smoothing import anisotropic_diffusion   \n",
        "from skimage import data\n",
        "from math import log10, sqrt\n",
        "from skimage.filters import unsharp_mask\n",
        "from skimage import filters\n",
        "from skimage import restoration\n",
        "from skimage.filters import threshold_otsu, threshold_local,threshold_mean,threshold_yen,threshold_li\n",
        "\n"
      ],
      "execution_count": null,
      "outputs": []
    },
    {
      "cell_type": "code",
      "metadata": {
        "id": "UL6n4xLZcFw1"
      },
      "source": [
        "# Parameters\n",
        "class Args:\n",
        "      model='DnCNN'\n",
        "      batch_size=128\n",
        "      train_data='../retrospective_study/data/npy_data/clean_patches_a.npy' # Clean patches for training # X_train ,for old prospective data\n",
        "      test_dir='../retrospective_study/testing_data/'\n",
        "      sigma=0.01 # Rician noise level 0.01,0.03,0.05\n",
        "      epoch=60\n",
        "      lr=1e-3\n",
        "      save_every=10\n",
        "      pretrain=None\n",
        "      only_test=False\n",
        "args=Args()\n",
        "\n",
        "#PSNR\n",
        "def PSNR(original, denoised,mask):\n",
        "    original_mask=mask*denoised\n",
        "    denoised_mask=mask*denoised\n",
        "    mse = np.mean((original_mask - denoised_mask) ** 2)\n",
        "    if(mse == 0):  # MSE is zero means no noise is present in the signal .\n",
        "                  # Therefore PSNR have no importance.\n",
        "        return 0\n",
        "    max_pixel = 1.0\n",
        "    psnr = 20 * log10(max_pixel / sqrt(mse))\n",
        "    return psnr"
      ],
      "execution_count": null,
      "outputs": []
    },
    {
      "cell_type": "code",
      "metadata": {
        "colab": {
          "base_uri": "https://localhost:8080/"
        },
        "id": "4lvd8zGhZjhK",
        "outputId": "aa7fd747-606c-4660-ee06-c7343b0bc896"
      },
      "source": [
        "# This section is to save information log after every 5 epochs in snapshot directory\n",
        "if not args.only_test:\n",
        "    save_dir = './snapshot/save_'+ args.model + '_' + 'sigma' + str(args.sigma) + '_' + time.strftime(\"%Y-%m-%d-%H-%M-%S\", time.localtime()) + '/'\n",
        "    if not os.path.exists(save_dir):\n",
        "        os.mkdir(save_dir)\n",
        "    # log\n",
        "    logging.basicConfig(level=logging.INFO,format='%(asctime)s %(filename)s[line:%(lineno)d] %(levelname)s %(message)s',\n",
        "                    datefmt='%Y %H:%M:%S',\n",
        "                    filename=save_dir+'info.log',\n",
        "                    filemode='w')\n",
        "    console = logging.StreamHandler()\n",
        "    console.setLevel(logging.INFO)\n",
        "    formatter = logging.Formatter('%(name)-6s: %(levelname)-6s %(message)s')\n",
        "    console.setFormatter(formatter)\n",
        "    logging.getLogger('').addHandler(console)\n",
        "    \n",
        "    logging.info(args)\n",
        "    \n",
        "else:\n",
        "    save_dir = '/'.join(args.pretrain.split('/')[:-1]) + '/'"
      ],
      "execution_count": null,
      "outputs": [
        {
          "output_type": "stream",
          "text": [
            "root  : INFO   <__main__.Args object at 0x7fb6e2a425d0>\n"
          ],
          "name": "stderr"
        }
      ]
    },
    {
      "cell_type": "code",
      "metadata": {
        "id": "LMv-ArwesLwq"
      },
      "source": [
        "# Training \n",
        "# This is for b1000/b2000 DWI data\n",
        "# Else dont run this cell\n",
        "x_train = np.load(args.train_data)\n",
        "x_train = x_train.reshape((x_train.shape[0],x_train.shape[1],x_train.shape[2],1))\n",
        "x_train = x_train.astype('float32')\n",
        "x_train = x_train/np.max(x_train)"
      ],
      "execution_count": null,
      "outputs": []
    },
    {
      "cell_type": "code",
      "metadata": {
        "id": "Caar43r8s75r"
      },
      "source": [
        "#This function is only to generate x_train and y_train \n",
        "\n",
        "def train_datagen(y_, batch_size=8):\n",
        "    indices = list(range(y_.shape[0]))\n",
        "    while(True):\n",
        "        np.random.shuffle(indices)    # shuffle\n",
        "        for i in range(0, len(indices), batch_size):\n",
        "            ge_batch_y = y_[indices[i:i+batch_size]]\n",
        "            ge_y=ge_batch_y[:,]\n",
        "            noise = scipy.stats.rice.rvs(1,args.sigma,size=ge_batch_y.shape)*0.08\n",
        "            ge_batch_x = ge_batch_y + noise  # input image = clean image + noise                         \n",
        "            yield ge_batch_x, ge_batch_y  "
      ],
      "execution_count": null,
      "outputs": []
    },
    {
      "cell_type": "code",
      "metadata": {
        "id": "ny1N5mcNiD4P"
      },
      "source": [
        "\n",
        "#step decay\n",
        "def step_decay(epoch):\n",
        "    initial_lr = args.lr\n",
        "    if epoch<50:\n",
        "        lr = initial_lr\n",
        "    else:\n",
        "        lr = initial_lr/10\n",
        "    return lr"
      ],
      "execution_count": null,
      "outputs": []
    },
    {
      "cell_type": "code",
      "metadata": {
        "id": "hWZzFSFviElC"
      },
      "source": [
        "\n",
        "# model selection\n",
        "if args.pretrain:   model = load_model(args.pretrain, compile=False) # If it is pretrained model\n",
        "else:   \n",
        "    if args.model == 'DnCNN': model = models.DnCNN()\n",
        "\n",
        "# compile the model\n",
        "model.compile(optimizer='Adam',loss='mse')\n",
        "#print(model.summary())\n",
        "lr = LearningRateScheduler(step_decay)\n"
      ],
      "execution_count": null,
      "outputs": []
    },
    {
      "cell_type": "code",
      "metadata": {
        "id": "ipYtnKbUiF4G"
      },
      "source": [
        "\n",
        "# train\n",
        "# Execute this cell iff you are training the model \n",
        "from keras.callbacks import EarlyStopping\n",
        "es = EarlyStopping(monitor='loss', mode='min', min_delta=1e-3,patience=4)\n",
        "ckpt = ModelCheckpoint(save_dir+'/model_{epoch:02d}.h5', monitor='loss', \n",
        "                    verbose=0, period=args.save_every,save_weights_only=True,\n",
        "     mode='min',\n",
        "    save_best_only=True)\n",
        "csv_logger = CSVLogger(save_dir+'/log.csv', append=True, separator=',')\n",
        "\n",
        "lr = LearningRateScheduler(step_decay)\n",
        "    # train \n",
        "start = time.time()\n",
        "history = model.fit(train_datagen(x_train, batch_size=args.batch_size),steps_per_epoch=len(x_train)//args.batch_size, \n",
        "                    epochs=args.epoch, verbose=1, callbacks=[es])\n",
        "stop = time.time()\n",
        "print(f\"Training time: {stop - start}s\")\n",
        "model.save('../retrospective_study/saved_models/model_0.03_final1/')"
      ],
      "execution_count": null,
      "outputs": []
    },
    {
      "cell_type": "markdown",
      "metadata": {
        "id": "cMFjdNcf4sTe"
      },
      "source": [
        ""
      ]
    },
    {
      "cell_type": "code",
      "metadata": {
        "colab": {
          "base_uri": "https://localhost:8080/",
          "height": 295
        },
        "id": "evrGtZco2aff",
        "outputId": "2300a210-965c-4ddf-8e05-801561b785ca"
      },
      "source": [
        "%matplotlib inline\n",
        "train_loss=history.history['loss']\n",
        "plt.plot(train_loss)\n",
        "   \n",
        "plt.title('model loss')\n",
        "plt.ylabel('loss')\n",
        "plt.xlabel('epoch')\n",
        "# plt.legend(['train', 'val'], loc='upper left')\n",
        "plt.show()"
      ],
      "execution_count": null,
      "outputs": [
        {
          "output_type": "display_data",
          "data": {
            "image/png": "[encoded data removed]",
            "text/plain": [
              "<Figure size 432x288 with 1 Axes>"
            ]
          },
          "metadata": {
            "tags": [],
            "needs_background": "light"
          }
        }
      ]
    },
    {
      "cell_type": "code",
      "metadata": {
        "id": "jg9ksU37HVjn"
      },
      "source": [
        "#loaded_model = tf.keras.models.load_model('../retrospective_study/saved_models/model_0.01_final1/')\n",
        "#loaded_model = tf.keras.models.load_model('../retrospective_study/saved_models/model_0.03_final1/')\n",
        "loaded_model = tf.keras.models.load_model('../retrospective_study/saved_models/model_0.05_final1/')\n",
        "model= loaded_model"
      ],
      "execution_count": null,
      "outputs": []
    },
    {
      "cell_type": "code",
      "metadata": {
        "colab": {
          "base_uri": "https://localhost:8080/"
        },
        "id": "OKjZgKA-bi8p",
        "outputId": "dc46310b-f3fc-4e46-a4a3-5ed3ab724d61"
      },
      "source": [
        "#Retrospective DWI denoising\n",
        "# Testing \n",
        "    \n",
        "import sklearn.metrics as metrics\n",
        "import scipy\n",
        "from scipy.stats import rice\n",
        "import matplotlib.pyplot as plt\n",
        "#import pybm3d\n",
        "print('Start to test on {}'.format(args.test_dir))\n",
        "out_dir = save_dir + args.test_dir.split('/')[-1] + '/'\n",
        "if not os.path.exists(out_dir):\n",
        "       os.mkdir(out_dir)\n",
        "im_data=[]    \n",
        "im=[]    \n",
        "name = []\n",
        "psnr = []\n",
        "ssim = []\n",
        "entropy_dn=[]\n",
        "psnr_n = []\n",
        "ssim_n = []\n",
        "entropy_n=[]\n",
        "psnr_bm=[]\n",
        "psnr_bl=[]\n",
        "psnr_ad=[]\n",
        "psnr_tv=[]\n",
        "ssim_bm=[]\n",
        "ssim_bl=[]\n",
        "ssim_ad=[]\n",
        "ssim_tv=[]\n",
        "entropy_bl=[]\n",
        "entropy_bm=[]\n",
        "entropy_ad=[]\n",
        "entropy_tv=[]\n",
        "count=0\n",
        "sigma_val=[0,01,0,03,0.05]\n",
        "\n",
        "#Reading 120 slices from three healthy controls for testing\n",
        "for dirpath, dirnames, filenames in os.walk('/retrospective_study/testing_data/'):\n",
        "  for filename in [f for f in filenames if f.endswith(\".nii.gz\")]:\n",
        "      print(os.path.join(dirpath, filename)) \n",
        "      img_path=os.path.join(dirpath, filename)\n",
        "      img = nib.load(os.path.join(dirpath, filename))\n",
        "      x_test_nifti = np.array(img.get_data())          \n",
        "      #print(x_test_nifti.shape)\n",
        "      im_data.append(x_test_nifti)        \n",
        "      slice_total=x_test_nifti.shape[2]\n",
        "      dir_total=x_test_nifti.shape[3]        \n",
        "      for num_slice in range(0,slice_total-35):\n",
        "        for num_dir in range(dir_total-4,dir_total-1):\n",
        "           x_test_clean=x_test_nifti[:,:,num_dir,num_slice]\n",
        "           if np.sum(x_test_clean)>0:\n",
        "              x_test_clean =x_test_clean.astype('float32')\n",
        "             \n",
        "          # read image\n",
        "              x_test_clean=cv2.resize(x_test_clean,(128,128))\n",
        "              x_test_clean=x_test_clean/np.max(x_test_clean)\n",
        "             \n",
        "             \n",
        "          # Add noise\n",
        "              for s in sigma_val:    \n",
        "                  noise=scipy.stats.rice.rvs(1,s,size=(x_test_clean.shape))*0.08\n",
        "                  x_test_noisy=x_test_clean + noise\n",
        "                  \n",
        "         # predict\n",
        "                  x_test_inf = x_test_noisy.reshape(1, x_test_noisy.shape[0], x_test_noisy.shape[1], 1) \n",
        "                  y_predict = model.predict(x_test_inf)    \n",
        "                  y_test = y_predict.reshape(x_test_clean.shape)                  \n",
        "                  y_test=np.clip(y_test,0,1)\n",
        "                  \n",
        "                  # Sharpening            \n",
        "                  un_msk=x_test_clean-y_test #unsharp masking for medium level contrast details\n",
        "                  y_test=y_test+0.9*un_msk   # set weightage of 0.9\n",
        "                   \n",
        "      \n",
        "                  # Comparative filters\n",
        "\n",
        "                 # BM3D denoising\n",
        "                  adaptive_thresh = threshold_local(x_test_noisy,75)\n",
        "                  threshold =x_test_noisy > adaptive_thresh\n",
        "                  bm3d_filtered = bm3d.bm3d(x_test_noisy,sigma_val, stage_arg=threshold)\n",
        "\n",
        "                  # Total variation filter\n",
        "                  tv_f = restoration.denoise_tv_chambolle(x_test_noisy, weight=0.05) # greater the weight more denoising # standard weight=0.1\n",
        "                 \n",
        "                  \n",
        "                  # Bilateral filter\n",
        "                  x_test_noisy=x_test_noisy.astype('float32')\n",
        "                  bilateral = cv2.bilateralFilter(x_test_noisy,3, 8, 8) # diameter=3,sigmacolor=8,sigmaspace=8 # grayscale values\n",
        "                                 \n",
        "                  # Anisotropic diffusion denoising\n",
        "                  ad_filtered = anisotropic_diffusion(x_test_noisy,niter=3,kappa=50,gamma=0.1,option=1) #niter  - number of iterations\n",
        "\t                                                                                                      #kappa  - conduction coefficient 20-100 ?\n",
        "\t                                                                                                      #gamma  - max value of .25 for stability\t       \n",
        "                                                                                                        #option - 1 Perona Malik diffusion equation No 1\n",
        "                                                                                                                # 2 Perona Malik diffusion equation No 2\n",
        "                  \n",
        "                  # Quality metrics PSNR,SSIM,Entropy  \n",
        "                  #PSNR      \n",
        "                  psnr_noise, psnr_denoised = compare_psnr(x_test_clean, x_test_noisy,data_range=1), compare_psnr(x_test_clean, y_test,data_range=1)  \n",
        "                  psnr_bm3d, psnr_ad1 = compare_psnr(x_test_noisy, bm3d_filtered,data_range=1),compare_psnr(x_test_noisy, ad_filtered,data_range=1)\n",
        "                  psnr_tv1,psnr_bil = compare_psnr(x_test_clean,tv_f,data_range=1), compare_psnr(x_test_clean,bilateral,data_range=1)              \n",
        "                   \n",
        "                  #SSIM                \n",
        "                  ssim_noise, ssim_denoised= compare_ssim(x_test_clean, x_test_noisy), compare_ssim(x_test_clean, y_test)\n",
        "                  ssim_bm3d= compare_ssim(x_test_clean, bm3d_filtered,data_range=np.max(x_test_clean))\n",
        "                  ssim_ad1=compare_ssim(x_test_clean, ad_filtered,data_range=np.max(x_test_clean))\n",
        "                  ssim_tv1 =compare_ssim(x_test_clean,tv_f )\n",
        "                  ssim_bil=compare_ssim(x_test_clean,bilateral)\n",
        "                              \n",
        "                  # Entropy\n",
        "                  entropy_noisy = skimage.measure.shannon_entropy(x_test_noisy)\n",
        "                  entropy_denoise = skimage.measure.shannon_entropy(y_test) \n",
        "                  entropy_bm3d = skimage.measure.shannon_entropy(bm3d_filtered)\n",
        "                  entropy_tvf = skimage.measure.shannon_entropy(tv_f)\n",
        "                  entropy_ad1= skimage.measure.shannon_entropy(ad_filtered)\n",
        "                  entropy_bil = skimage.measure.shannon_entropy(bilateral)                                    \n",
        "                            \n",
        "                  psnr.append(psnr_denoised)\n",
        "                  ssim.append(ssim_denoised)\n",
        "                  entropy_dn.append(entropy_denoise)\n",
        "                  psnr_n.append(psnr_noise)\n",
        "                  ssim_n.append(ssim_noise)\n",
        "                  entropy_n.append(entropy_noisy)\n",
        "                  psnr_bl.append(psnr_bil)\n",
        "                  ssim_bl.append(ssim_bil)\n",
        "                  entropy_bl.append(entropy_bil)\n",
        "                  psnr_bm.append(psnr_bm3d)\n",
        "                  ssim_bm.append(ssim_bm3d)\n",
        "                  entropy_bm.append(entropy_bm3d)\n",
        "                  psnr_ad.append(psnr_ad1)\n",
        "                  ssim_ad.append(ssim_ad1)\n",
        "                  entropy_ad.append(entropy_ad1)\n",
        "                  psnr_tv.append(psnr_tv1)\n",
        "                  ssim_tv.append(ssim_tv1)\n",
        "                  entropy_tv.append(entropy_tvf)\n",
        "\n",
        "                  # Save quantitative results in output directory        \n",
        "                  \n",
        "                 pd.DataFrame({\n",
        "                               'entropy_denoised':np.array(entropy_dn),'psnr_noisy':np.array(psnr_n), 'ssim_noisy':np.array(ssim_n),'entropy_noisy':np.array(entropy_n),\n",
        "                                'psnr_bilateral':np.array(psnr_bl), 'ssim_bilateral':np.array(ssim_bl),'entropy_bilateral':np.array(entropy_bl),\n",
        "                                'psnr_bm3d':np.array(psnr_bm), 'ssim_bm3d':np.array(ssim_bm),'entropy_bm3d':np.array(entropy_bm),\n",
        "                                'psnr_anisotropic':np.array(psnr_ad), 'ssim_anisotropic':np.array(ssim_ad),'entropy_anisotropic':np.array(entropy_ad),\n",
        "                                'psnr_totalvariation':np.array(psnr_tv), 'ssim_totalvariation':np.array(ssim_tv),'entropy_totalvariation':np.array(entropy_tv)}).to_csv(out_dir+'/metrics_0.05_final_a5.csv', index=True)\n",
        "                    \n",
        "\n",
        "        \n"
      ],
      "execution_count": null,
      "outputs": [
        {
          "output_type": "stream",
          "text": [
            "Start to test on ../DnCNN-keras-master/data/Test/\n",
            "/content/gdrive/My Drive/DnCNN-keras-master/DnCNN-keras-master/data/Test/test_retrospective/sub-TCRc007_ses-1_acq-preSMS_dwi.nii.gz\n"
          ],
          "name": "stdout"
        },
        {
          "output_type": "stream",
          "text": [
            "/usr/local/lib/python3.7/dist-packages/ipykernel_launcher.py:41: DeprecationWarning: get_data() is deprecated in favor of get_fdata(), which has a more predictable return type. To obtain get_data() behavior going forward, use numpy.asanyarray(img.dataobj).\n",
            "\n",
            "* deprecated from version: 3.0\n",
            "* Will raise <class 'nibabel.deprecator.ExpiredDeprecationError'> as of version: 5.0\n",
            "/usr/local/lib/python3.7/dist-packages/medpy/filter/smoothing.py:155: FutureWarning: Using a non-tuple sequence for multidimensional indexing is deprecated; use `arr[tuple(seq)]` instead of `arr[seq]`. In the future this will be interpreted as an array index, `arr[np.array(seq)]`, which will result either in an error or a different result.\n",
            "  deltas[i][slicer] = numpy.diff(out, axis=i)\n",
            "/usr/local/lib/python3.7/dist-packages/medpy/filter/smoothing.py:164: FutureWarning: Using a non-tuple sequence for multidimensional indexing is deprecated; use `arr[tuple(seq)]` instead of `arr[seq]`. In the future this will be interpreted as an array index, `arr[np.array(seq)]`, which will result either in an error or a different result.\n",
            "  matrices[i][slicer] = numpy.diff(matrices[i], axis=i)\n",
            "/usr/local/lib/python3.7/dist-packages/ipykernel_launcher.py:145: UserWarning: DEPRECATED: skimage.measure.compare_psnr has been moved to skimage.metrics.peak_signal_noise_ratio. It will be removed from skimage.measure in version 0.18.\n",
            "/usr/local/lib/python3.7/dist-packages/ipykernel_launcher.py:147: UserWarning: DEPRECATED: skimage.measure.compare_psnr has been moved to skimage.metrics.peak_signal_noise_ratio. It will be removed from skimage.measure in version 0.18.\n",
            "/usr/local/lib/python3.7/dist-packages/ipykernel_launcher.py:149: UserWarning: DEPRECATED: skimage.measure.compare_ssim has been moved to skimage.metrics.structural_similarity. It will be removed from skimage.measure in version 0.18.\n",
            "/usr/local/lib/python3.7/dist-packages/ipykernel_launcher.py:150: UserWarning: DEPRECATED: skimage.measure.compare_ssim has been moved to skimage.metrics.structural_similarity. It will be removed from skimage.measure in version 0.18.\n",
            "/usr/local/lib/python3.7/dist-packages/ipykernel_launcher.py:151: UserWarning: DEPRECATED: skimage.measure.compare_ssim has been moved to skimage.metrics.structural_similarity. It will be removed from skimage.measure in version 0.18.\n",
            "/usr/local/lib/python3.7/dist-packages/ipykernel_launcher.py:152: UserWarning: DEPRECATED: skimage.measure.compare_ssim has been moved to skimage.metrics.structural_similarity. It will be removed from skimage.measure in version 0.18.\n",
            "/usr/local/lib/python3.7/dist-packages/skimage/measure/_structural_similarity.py:17: UserWarning: Inputs have mismatched dtype.  Setting data_range based on im1.dtype.\n",
            "  **kwargs)\n",
            "/usr/local/lib/python3.7/dist-packages/ipykernel_launcher.py:153: UserWarning: DEPRECATED: skimage.measure.compare_ssim has been moved to skimage.metrics.structural_similarity. It will be removed from skimage.measure in version 0.18.\n",
            "/usr/local/lib/python3.7/dist-packages/ipykernel_launcher.py:165: UserWarning: DEPRECATED: skimage.measure.compare_psnr has been moved to skimage.metrics.peak_signal_noise_ratio. It will be removed from skimage.measure in version 0.18.\n"
          ],
          "name": "stderr"
        },
        {
          "output_type": "stream",
          "text": [
            "/content/gdrive/My Drive/DnCNN-keras-master/DnCNN-keras-master/data/Test/test_retrospective/sub-TCRc008_ses-1_acq-preSMS_dwi.nii.gz\n",
            "/content/gdrive/My Drive/DnCNN-keras-master/DnCNN-keras-master/data/Test/test_retrospective/sub-TCRc010_ses-1_acq-preSMS_dwi.nii.gz\n"
          ],
          "name": "stdout"
        }
      ]
    },
    {
      "cell_type": "code",
      "metadata": {
        "id": "q0RA4xx63g1o"
      },
      "source": [
        ""
      ],
      "execution_count": null,
      "outputs": []
    }
  ]
}