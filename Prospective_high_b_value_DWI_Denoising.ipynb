{
  "nbformat": 4,
  "nbformat_minor": 0,
  "metadata": {
    "accelerator": "GPU",
    "colab": {
      "name": "Prospective_high_b_value_DWI_Denoising.ipynb",
      "provenance": [],
      "collapsed_sections": []
    },
    "kernelspec": {
      "display_name": "Python 3",
      "name": "python3"
    }
  },
  "cells": [
    {
      "cell_type": "code",
      "metadata": {
        "id": "sZJiz5_KxjvV"
      },
      "source": [
        "# This code is for prospective high b-value DWI denoising using DnCNN\n",
        "# Code dependency Python 3.7, Tesnsorflow and Keras\n",
        "# Reference article: https://ieeexplore.ieee.org/abstract/document/7839189\n",
        "##\n",
        "!pip install bm3d\n",
        "!pip install pydicom\n",
        "!pip install medpy\n",
        "##\n",
        "import os\n",
        "import cv2\n",
        "import logging\n",
        "import time \n",
        "import glob\n",
        "import os.path\n",
        "import models\n",
        "import bm3d\n",
        "import pydicom\n",
        "import nibabel as nib\n",
        "import numpy as np\n",
        "import pandas as pd\n",
        "import scipy\n",
        "from scipy import stats \n",
        "from scipy.stats import rice\n",
        "from scipy import ndimage\n",
        "#from keras import backend as K\n",
        "import tensorflow as tf\n",
        "import matplotlib.pyplot as plt\n",
        "import sklearn.metrics as metrics\n",
        "from sklearn.model_selection import train_test_split\n",
        "#import imquality.brisque as brisque\n",
        "import skimage.measure    \n",
        "from keras.callbacks import CSVLogger, ModelCheckpoint, LearningRateScheduler\n",
        "from keras.callbacks import EarlyStopping\n",
        "from keras.models import load_model\n",
        "from keras.optimizers import Adam\n",
        "from skimage.measure import compare_psnr, compare_ssim\n",
        "#from skimage.metrics import structural_similarity as ssim\n",
        "from medpy.filter.smoothing import anisotropic_diffusion   \n",
        "from skimage import data\n",
        "from math import log10, sqrt\n",
        "from skimage.filters import unsharp_mask\n",
        "from skimage import filters\n",
        "from skimage import restoration\n",
        "from skimage.filters import threshold_local,threshold_yen\n",
        "\n",
        " \n"
      ],
      "execution_count": null,
      "outputs": []
    },
    {
      "cell_type": "code",
      "metadata": {
        "id": "UL6n4xLZcFw1"
      },
      "source": [
        "# Parameters\n",
        "class Args:\n",
        "      model='DnCNN'\n",
        "      batch_size=128\n",
        "      test_dir='../prospective_study/testing_data/'\n",
        "      pretrain=None\n",
        "      only_test=False\n",
        "args=Args()\n",
        "\n",
        "# PSNR function definition\n",
        "def PSNR(original,denoised,mask):\n",
        "    original_mask=mask*original\n",
        "    denoised_mask=mask*denoised\n",
        "    mse = np.mean((original_mask - denoised_mask) ** 2)\n",
        "    if(mse == 0):  # MSE is zero means no noise is present in the signal .\n",
        "                  # Therefore PSNR have no importance.\n",
        "        return 0\n",
        "    max_pixel = 1.0\n",
        "    psnr = 20 * log10(max_pixel / sqrt(mse))\n",
        "    return psnr\n"
      ],
      "execution_count": null,
      "outputs": []
    },
    {
      "cell_type": "code",
      "metadata": {
        "id": "KYN6nG1X1tKq"
      },
      "source": [
        ""
      ],
      "execution_count": null,
      "outputs": []
    },
    {
      "cell_type": "code",
      "metadata": {
        "colab": {
          "base_uri": "https://localhost:8080/"
        },
        "id": "4lvd8zGhZjhK",
        "outputId": "aa7fd747-606c-4660-ee06-c7343b0bc896"
      },
      "source": [
        "# This section is to save information log  in snapshot directory\n",
        "if not args.only_test:\n",
        "    save_dir = './snapshot/save_'+ args.model + '_' + 'nex' + str(args.sigma) + '_' + time.strftime(\"%Y-%m-%d-%H-%M-%S\", time.localtime()) + '/'\n",
        "    if not os.path.exists(save_dir):\n",
        "        os.mkdir(save_dir)\n",
        "    # log\n",
        "    logging.basicConfig(level=logging.INFO,format='%(asctime)s %(filename)s[line:%(lineno)d] %(levelname)s %(message)s',\n",
        "                    datefmt='%Y %H:%M:%S',\n",
        "                    filename=save_dir+'info.log',\n",
        "                    filemode='w')\n",
        "    console = logging.StreamHandler()\n",
        "    console.setLevel(logging.INFO)\n",
        "    formatter = logging.Formatter('%(name)-6s: %(levelname)-6s %(message)s')\n",
        "    console.setFormatter(formatter)\n",
        "    logging.getLogger('').addHandler(console)\n",
        "    \n",
        "    logging.info(args)\n",
        "    \n",
        "else:\n",
        "    save_dir = '/'.join(args.pretrain.split('/')[:-1]) + '/'"
      ],
      "execution_count": null,
      "outputs": [
        {
          "output_type": "stream",
          "text": [
            "root  : INFO   <__main__.Args object at 0x7fb6e2a425d0>\n"
          ],
          "name": "stderr"
        }
      ]
    },
    {
      "cell_type": "code",
      "metadata": {
        "id": "kc4ianRssWrT"
      },
      "source": [
        "# Read NEX 4 gold standard data\n",
        "x_sub1_4=[]\n",
        "\n",
        "for dirpath, dirnames, filenames in os.walk('../prospective_study/data/'):\n",
        "    for filename in [f for f in filenames if f.endswith(\"b2000_avg4.nii\")]:\n",
        "        img_path=os.path.join(dirpath, filename)\n",
        "        img = nib.load(os.path.join(dirpath, filename))\n",
        "        \n",
        "        #read data\n",
        "        x_test_nifti = np.array(img.get_data())     \n",
        "        slice_total=x_test_nifti.shape[2]\n",
        "        for num_slice in range(slice_total):\n",
        "            x_test=x_test_nifti[:,:,num_slice]\n",
        "            x_test=np.rot90(x_test,3)\n",
        "            x_test=np.fliplr(x_test)\n",
        "            x_test=x_test/np.max(x_test)\n",
        "            x_test=x_test.astype('float32')\n",
        "            x_sub1_4.append(x_test)                    \n",
        "            x_sub4=np.asarray(x_sub1_4)\n",
        "            \n",
        "        x_sub4=np.transpose(x_sub4)\n",
        "        print(x_sub4.shape)\n",
        "        %matplotlib inline\n",
        "        plt.imshow(x_sub4[:,:,69],cmap='gray')\n",
        "\n",
        "    \n",
        "         "
      ],
      "execution_count": null,
      "outputs": []
    },
    {
      "cell_type": "code",
      "metadata": {
        "id": "hWZzFSFviElC"
      },
      "source": [
        "\n",
        "# model selection\n",
        "if args.pretrain:   model = load_model(args.pretrain, compile=False) # If it is pretrained model\n",
        "else:   \n",
        "    if args.model == 'DnCNN': model = models.DnCNN()\n",
        "\n",
        "# compile the model\n",
        "model.compile(optimizer='Adam',loss='mse')\n",
        "#print(model.summary())\n",
        "lr = LearningRateScheduler(step_decay)\n"
      ],
      "execution_count": null,
      "outputs": []
    },
    {
      "cell_type": "markdown",
      "metadata": {
        "id": "cMFjdNcf4sTe"
      },
      "source": [
        ""
      ]
    },
    {
      "cell_type": "code",
      "metadata": {
        "colab": {
          "base_uri": "https://localhost:8080/"
        },
        "id": "KxhYZBvNfcPh",
        "outputId": "88b78d81-0a65-4d4b-c0bd-9c8bc1b822be"
      },
      "source": [
        "# Run this cell to load saved model using retrospective data\n",
        "\n",
        "loaded_model = tf.keras.models.load_model('../prospective_study/model_avg2_final_23/')\n",
        "\n",
        "model = loaded_model"
      ],
      "execution_count": null,
      "outputs": [
        {
          "output_type": "stream",
          "text": [
            "WARNING:tensorflow:SavedModel saved prior to TF 2.5 detected when loading Keras model. Please ensure that you are saving the model with model.save() or tf.keras.models.save_model(), *NOT* tf.saved_model.save(). To confirm, there should be a file named \"keras_metadata.pb\" in the SavedModel directory.\n"
          ],
          "name": "stdout"
        }
      ]
    },
    {
      "cell_type": "code",
      "metadata": {
        "id": "V_s6o87Dk4TH"
      },
      "source": [
        ""
      ],
      "execution_count": null,
      "outputs": []
    },
    {
      "cell_type": "code",
      "metadata": {
        "id": "J9EjIky9nAx9"
      },
      "source": [
        "# Testing for all the slices of one subject at a time\n",
        "# Run this cell if denoising prospective DWI data\n",
        "\n",
        "\n",
        "print('Start to test on {}'.format(args.test_dir))\n",
        "out_dir = save_dir + args.test_dir.split('/')[-1] + '/'\n",
        "if not os.path.exists(out_dir):\n",
        "        os.mkdir(out_dir)\n",
        "        \n",
        "im_data=[] \n",
        "name = []\n",
        "psnr_denoised = []\n",
        "psnr_noisy=[]\n",
        "ssim_denoised = []\n",
        "ssim_noisy=[]\n",
        "\n",
        "# Read test images\n",
        "\n",
        "for dirpath, dirnames, filenames in os.walk('../prospective_study/data/'):\n",
        "    #for filename in [f for f in filenames if f.endswith(\"b2000_avg1.nii\")]:\n",
        "    for filename in [f for f in filenames if f.endswith(\"b2000_avg2.nii\")]:\n",
        "    \n",
        "        #print(os.path.join(dirpath, filename)) \n",
        "        img_path=os.path.join(dirpath, filename)\n",
        "        img = nib.load(os.path.join(dirpath, filename))\n",
        "        img_affine=img.affine\n",
        "        x_test_nifti = np.array(img.get_data())  \n",
        "        pix_max=np.max(x_test_nifti)        \n",
        "        print(pix_max)\n",
        "        im_data.append(x_test_nifti)        \n",
        "        slice_total=x_test_nifti.shape[2]\n",
        "\n",
        "        # read image\n",
        "        for num_slice in range(slice_total):\n",
        "            x_test_clean=x_test_nifti[:,:,num_slice]\n",
        "            x_test_clean =x_test_clean.astype('float32')                      \n",
        "            x_test_clean=x_test_clean/np.max(x_test_clean) # Normalize the test                                  \n",
        "            x_test_noisy=x_test_clean\n",
        "           \n",
        "            # predict\n",
        "            x_test = x_test_noisy.reshape(1, x_test_noisy.shape[0], x_test_noisy.shape[1], 1) \n",
        "            y_predict = model.predict(x_test)\n",
        "            y_predict = y_predict.reshape(x_test_clean.shape)\n",
        "            y_predict= np.clip(y_predict,np.min(x_test_clean),np.max(x_test_clean))\n",
        "            \n",
        "            # Sharpening  \n",
        "         \n",
        "            un_msk=x_test_clean-y_predict #unsharp masking for medium level contrast details\n",
        "            y_predict=y_predict+0.9*un_msk   # set weightage of 0.8\n",
        "            denoised_nifti.append(y_predict)\n",
        "\n",
        "            # Save the denosied images in ouput directory\n",
        "            denoised_nifti = np.asarray(denoised_nifti)\n",
        "            denoised_nifti=np.transpose(denoised_nifti)\n",
        "            sub2_avg1 = nib.Nifti1Image(denoised_nifti,affine=np.eye(4))\n",
        "            nib.save(sub2_avg1,'avg2_denoised.nii')  \n",
        "          \n",
        "                      \n",
        "            # Image quality metrics\n",
        "            \n",
        "            psnr_noise, psnr_denoised = PSNR(x_sub4[:,:,num_slice], x_test_noisy,mask[:,:,num_slice]),PSNR(x_sub4[:,:,num_slice], y_predict,mask[:,:,num_slice])\n",
        "            ssim_noise, ssim_denoised= compare_ssim(x_sub4[:,:,num_slice], x_test_noisy), compare_ssim(x_sub4[:,:,num_slice], y_predict)\n",
        "            \n",
        "            # Save PSNR,SSIM  values to a list          \n",
        "            psnr_denoised.append(psnr_denoised)\n",
        "            ssim_denoised.append(ssim_denoised)\n",
        "            psnr_noisy.append(psnr_noise)\n",
        "            ssim_noisy.append(ssim_noise)\n",
        "            \n",
        "\n",
        "        #save the quality metrics in a directory\n",
        "        pd.DataFrame({'psnr_sub_denoised':np.array(psnr_denoised), 'ssim_sub_original':np.array(ssim_denoised),'psnr_sub_original':np.array(psnr_noisy), \n",
        "                     'ssim_sub_original':np.array(ssim_noisy)\n",
        "                         }).to_csv(out_dir+'/metrics_sub.csv', index=True)\n",
        "           \n",
        "              "
      ],
      "execution_count": null,
      "outputs": []
    },
    {
      "cell_type": "code",
      "metadata": {
        "id": "zDGi6l1o2iKF"
      },
      "source": [
        "# Testing for the specified slice and for one subject at a time\n",
        "# Run this cell if denoising prospective DWI data\n",
        "#print('Start to test on {}'.format(args.test_dir))\n",
        "#out_dir = save_dir + args.test_dir.split('/')[-1] + '/'\n",
        "#if not os.path.exists(out_dir):\n",
        "       # os.mkdir(out_dir)\n",
        "im_data=[] \n",
        "name = []\n",
        "psnr = []\n",
        "ssim = []\n",
        "entropy_dn=[]\n",
        "psnr_bm=[]\n",
        "psnr_bl=[]\n",
        "psnr_ad=[]\n",
        "psnr_tv=[]\n",
        "ssim_bm=[]\n",
        "ssim_bl=[]\n",
        "ssim_ad=[]\n",
        "ssim_tv=[]\n",
        "entropy_bl=[]\n",
        "entropy_bm=[]\n",
        "entropy_ad=[]\n",
        "entropy_tv=[]\n",
        "count=0\n",
        "denoised_nifti=[]\n",
        "\n",
        "# Read test images\n",
        "\n",
        "for dirpath, dirnames, filenames in os.walk('../prospective_study/data/'):\n",
        "    for filename in [f for f in filenames if f.endswith(\"b3000_avg1_full_128_sub1.nii\")]:\n",
        "    #for filename in [f for f in filenames if f.endswith(\"b3000_avg1_full_128_sub2.nii\")]:\n",
        "    #for filename in [f for f in filenames if f.endswith(\"b3000_avg1_full_128_sub3.nii\")]:  \n",
        "    #for filename in [f for f in filenames if f.endswith(\"b3000_avg2_full_128_sub1.nii\")]:\n",
        "    #for filename in [f for f in filenames if f.endswith(\"b3000_avg2_full_128_sub2.nii\")]:\n",
        "    #for filename in [f for f in filenames if f.endswith(\"b3000_avg2_full_128_sub3.nii\")]:\n",
        "    #for filename in [f for f in filenames if f.endswith(\"b3000_avg4_full_128_sub1.nii\")]:\n",
        "    #for filename in [f for f in filenames if f.endswith(\"b3000_avg4_full_128_sub2.nii\")]:\n",
        "    #for filename in [f for f in filenames if f.endswith(\"b3000_avg4_full_128_sub3.nii\")]:  \n",
        "        #print(os.path.join(dirpath, filename)) \n",
        "        img_path=os.path.join(dirpath, filename)\n",
        "        img = nib.load(os.path.join(dirpath, filename))\n",
        "        img_affine=img.affine\n",
        "        x_test_nifti = np.array(img.get_data())  \n",
        "        im_data.append(x_test_nifti)        \n",
        "         \n",
        "        # read image\n",
        "        x_test_clean=x_test_nifti[:,:,69]\n",
        "        x_test_clean =x_test_clean.astype('float32')           \n",
        "        x_test_clean=x_test_clean/np.max(x_test_clean) # Normalize the test data                         \n",
        "        x_test_noisy=x_test_clean\n",
        "        \n",
        "        # predict\n",
        "        x_test = x_test_noisy.reshape(1, x_test_noisy.shape[0], x_test_noisy.shape[1], 1) \n",
        "        y_predict = model.predict(x_test)\n",
        "        y_predict = y_predict.reshape(x_test_clean.shape)\n",
        "        y_predict= np.clip(y_predict,np.min(x_test_clean),np.max(x_test_clean))\n",
        "        y_predict=y_predict\n",
        "\n",
        "        # Sharpening  \n",
        "      # y_predict = cv2.medianBlur(y_predict,3)          \n",
        "        un_msk=x_test_clean-y_predict #unsharp masking for medium level contrast details\n",
        "        y_predict=y_predict+0.9*un_msk   # set weightage of 0.9\n",
        "        denoised_nifti.append(y_predict)\n",
        "        \n",
        "        \n",
        "\n",
        "      "
      ],
      "execution_count": null,
      "outputs": []
    },
    {
      "cell_type": "code",
      "metadata": {
        "id": "SZ5zCgv2oP7N"
      },
      "source": [
        ""
      ],
      "execution_count": null,
      "outputs": []
    },
    {
      "cell_type": "code",
      "metadata": {
        "id": "ovsXo4UIoQeX"
      },
      "source": [
        "# Display images\n",
        "%matplotlib inline\n",
        "fig = plt.figure()  \n",
        "ax = plt.gca()\n",
        "ax.axes.xaxis.set_ticks([])\n",
        "ax.axes.yaxis.set_ticks([])       \n",
        "imgplot = plt.imshow(x_test_noisy,cmap='gray')                                         \n",
        "fig.suptitle('X_test_DnCNN') \n",
        "fig.colorbar(imgplot, ax=ax)\n",
        "\n",
        "fig = plt.figure() \n",
        "ax = plt.gca()\n",
        "ax.axes.xaxis.set_ticks([])\n",
        "ax.axes.yaxis.set_ticks([])                \n",
        "imgplot = plt.imshow(y_predict,cmap='gray',vmax=1,vmin=0)        \n",
        "fig.suptitle('Y_predict_DnCNN') \n",
        "fig.colorbar(imgplot, ax=ax)\n",
        "\n",
        "fig = plt.figure() \n",
        "ax = plt.gca()\n",
        "ax.axes.xaxis.set_ticks([])\n",
        "ax.axes.yaxis.set_ticks([])                \n",
        "imgplot = plt.imshow(y_predict-x_test_clean,cmap='gray',vmax=0, vmin=-0.1)        \n",
        "fig.suptitle('diffmap_denoised-original') \n",
        "fig.colorbar(imgplot, ax=ax)\n",
        "\n",
        "fig = plt.figure() \n",
        "ax = plt.gca()\n",
        "ax.axes.xaxis.set_ticks([])\n",
        "ax.axes.yaxis.set_ticks([]) \n",
        "plt.imshow(x_sub10[:,:,69]-x_test_noisy,cmap='gray')     \n",
        "fig.suptitle('GT-original') \n",
        "fig.colorbar(imgplot, ax=ax)\n",
        "\n",
        "\n",
        "fig = plt.figure() \n",
        "ax = plt.gca()\n",
        "ax.axes.xaxis.set_ticks([])\n",
        "ax.axes.yaxis.set_ticks([]) \n",
        "plt.imshow(x_sub10[:,:,69]-y_predict,cmap='gray')     \n",
        "fig.suptitle('GT-denoised') \n",
        "fig.colorbar(imgplot, ax=ax)\n",
        "\n",
        "\n"
      ],
      "execution_count": null,
      "outputs": []
    }
  ]
}